{
  "nbformat": 4,
  "nbformat_minor": 0,
  "metadata": {
    "colab": {
      "provenance": [],
      "authorship_tag": "ABX9TyOPjybIxbU2vC9iNtntvoPV",
      "include_colab_link": true
    },
    "kernelspec": {
      "name": "python3",
      "display_name": "Python 3"
    },
    "language_info": {
      "name": "python"
    }
  },
  "cells": [
    {
      "cell_type": "markdown",
      "metadata": {
        "id": "view-in-github",
        "colab_type": "text"
      },
      "source": [
        "<a href=\"https://colab.research.google.com/github/Gauri15-code/python_class/blob/main/Worksheet_4.ipynb\" target=\"_parent\"><img src=\"https://colab.research.google.com/assets/colab-badge.svg\" alt=\"Open In Colab\"/></a>"
      ]
    },
    {
      "cell_type": "code",
      "execution_count": null,
      "metadata": {
        "id": "5D8BlrB9alLA"
      },
      "outputs": [],
      "source": [
        "import numpy as np\n",
        "arr1D = np.arange(5, 26)\n",
        "print(\"1D Array:\", arr1D)\n",
        "\n",
        "arr2D = np.random.randint(10, 51, size=(3, 4))\n",
        "print(\"2D Array:\")\n",
        "print(arr2D)\n",
        "\n",
        "print(\"1D Array Shape:\", arr1D.shape)\n",
        "print(\"1D Array Size:\", arr1D.size)\n",
        "print(\"1D Array Data Type:\", arr1D.dtype)\n",
        "\n",
        "print(\"2D Array Shape:\", arr2D.shape)\n",
        "print(\"2D Array Size:\", arr2D.size)\n",
        "print(\"2D Array Data Type:\", arr2D.dtype)\n",
        "\n",
        "array1 = np.array([2, 4, 6, 8, 10])\n",
        "array2 = np.array([1, 3, 5, 7, 9])\n",
        "sum = array1 + array2\n",
        "difference = array1 - array2\n",
        "product = array1 * array2\n",
        "quotient = array1 / array2\n",
        "print(\"Addition:\", sum)\n",
        "print(\"Subtraction:\", difference)\n",
        "print(\"Multiplication:\", product)\n",
        "print(\"Division:\", quotient)"
      ]
    },
    {
      "cell_type": "code",
      "source": [
        "import numpy as np\n",
        "arr_2d = np.arange(1, 10).reshape(3, 3)\n",
        "print(\"Original 2D Array:\")\n",
        "print(arr_2d)\n",
        "\n",
        "result = arr_2d * 5\n",
        "print(\"After multiplying by 5:\")\n",
        "print(result)\n",
        "\n"
      ],
      "metadata": {
        "id": "Uf7N2OBFcBaF"
      },
      "execution_count": null,
      "outputs": []
    },
    {
      "cell_type": "code",
      "source": [
        "import numpy as np\n",
        "arr = np.arange(10, 26).reshape(4, 4)\n",
        "print(\"4x4 Array:\")\n",
        "print(arr)\n",
        "\n",
        "second_row = arr[1, :]\n",
        "last_column = arr[:, -1]\n",
        "print(\"Second row:\", second_row)\n",
        "print(\"Last column:\", last_column)\n",
        "\n",
        "arr[0, :] = 0\n",
        "print(\"After replacing first row with zeros:\")\n",
        "print(arr)\n"
      ],
      "metadata": {
        "id": "L1lQkhl0doiw"
      },
      "execution_count": null,
      "outputs": []
    },
    {
      "cell_type": "code",
      "source": [
        "import numpy as np\n",
        "arr_1D = np.random.randint(20, 41, 10)\n",
        "print(\"Random 1D Array:\", arr_1D)\n",
        "x = arr_1D[arr_1D > 30]\n",
        "print(\"Elements greater than 30:\", x)"
      ],
      "metadata": {
        "id": "1rZ-UwcldtpM"
      },
      "execution_count": null,
      "outputs": []
    },
    {
      "cell_type": "code",
      "source": [
        "import numpy as np\n",
        "arr_1D = np.arange(11, 23)\n",
        "print(\"1D Array:\", arr_1D)\n",
        "arr_2D = arr_1D.reshape(3, 4)\n",
        "print(\"Reshaped 2D Array:\")\n",
        "print(arr_2D)\n"
      ],
      "metadata": {
        "id": "hwt5AMJFeRh0"
      },
      "execution_count": null,
      "outputs": []
    },
    {
      "cell_type": "code",
      "source": [
        "import numpy as np\n",
        "matrix_A = np.array([[1, 2], [3, 4]])\n",
        "matrix_B = np.array([[5, 6], [7, 8]])\n",
        "\n",
        "matrix_p = np.dot(matrix_A, matrix_B)\n",
        "matrix_A_t = matrix_A.T\n",
        "print(\"Matrix A:\")\n",
        "print(matrix_A)\n",
        "print(\"Matrix B:\")\n",
        "print(matrix_B)\n",
        "print(\"Matrix Multiplication:\")\n",
        "print(matrix_p)\n",
        "print(\"Transpose of Matrix A:\")\n",
        "print(matrix_A_t)"
      ],
      "metadata": {
        "id": "0CiftjjOftnA"
      },
      "execution_count": null,
      "outputs": []
    },
    {
      "cell_type": "code",
      "source": [
        "import numpy as np\n",
        "random_arr = np.random.randint(10, 61, 15)\n",
        "print(\"Random Array:\", random_arr)\n",
        "mean_val = np.mean(random_arr)\n",
        "median_val = np.median(random_arr)\n",
        "std_dev = np.std(random_arr)\n",
        "print(\"Mean:\", mean_val)\n",
        "print(\"Median:\", median_val)\n",
        "print(\"Standard Deviation:\", std_dev)"
      ],
      "metadata": {
        "id": "LerczkOcgZrn"
      },
      "execution_count": null,
      "outputs": []
    }
  ]
}