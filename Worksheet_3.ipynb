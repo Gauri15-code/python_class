{
  "nbformat": 4,
  "nbformat_minor": 0,
  "metadata": {
    "colab": {
      "provenance": [],
      "authorship_tag": "ABX9TyMG5wy0JKyYVlI9J2uijPCg",
      "include_colab_link": true
    },
    "kernelspec": {
      "name": "python3",
      "display_name": "Python 3"
    },
    "language_info": {
      "name": "python"
    }
  },
  "cells": [
    {
      "cell_type": "markdown",
      "metadata": {
        "id": "view-in-github",
        "colab_type": "text"
      },
      "source": [
        "<a href=\"https://colab.research.google.com/github/Gauri15-code/python_class/blob/main/Worksheet_3.ipynb\" target=\"_parent\"><img src=\"https://colab.research.google.com/assets/colab-badge.svg\" alt=\"Open In Colab\"/></a>"
      ]
    },
    {
      "cell_type": "code",
      "execution_count": null,
      "metadata": {
        "id": "gbrMSmnHX3Ut"
      },
      "outputs": [],
      "source": [
        "n = int(input(\"Enter a number: \"))\n",
        "diff = n - 17\n",
        "if n > 17:\n",
        "    result = 2 * abs(diff)\n",
        "else:\n",
        "    result = diff\n",
        "print(result)"
      ]
    },
    {
      "cell_type": "code",
      "source": [
        "n = int(input(\"Enter a number: \"))\n",
        "if 100 <= n <= 1000 or n == 2000:\n",
        "    print(True)\n",
        "else:\n",
        "    print(False)"
      ],
      "metadata": {
        "id": "mrx_MPPaYWHA"
      },
      "execution_count": null,
      "outputs": []
    },
    {
      "cell_type": "code",
      "source": [
        "s = input(\"Enter a string: \")\n",
        "reversed_str = s[::-1]\n",
        "print(reversed_str)"
      ],
      "metadata": {
        "id": "FNPrz43bYYfi"
      },
      "execution_count": null,
      "outputs": []
    },
    {
      "cell_type": "code",
      "source": [
        "s = input(\"Enter a string: \")\n",
        "upper = 0\n",
        "lower = 0\n",
        "for char in s:\n",
        "    if char.isupper():\n",
        "        upper += 1\n",
        "    elif char.islower():\n",
        "        lower += 1\n",
        "print({'uppercase': upper, 'lowercase': lower})"
      ],
      "metadata": {
        "id": "uA-2lNN_YbUo"
      },
      "execution_count": null,
      "outputs": []
    },
    {
      "cell_type": "code",
      "source": [
        "lst = input(\"Enter numbers separated by space: \").split()\n",
        "result = []\n",
        "for item in lst:\n",
        "    if item not in result:\n",
        "        result.append(item)\n",
        "print(result)"
      ],
      "metadata": {
        "id": "VL4ZSUqPYfw6"
      },
      "execution_count": null,
      "outputs": []
    },
    {
      "cell_type": "code",
      "source": [
        "numbers = input(\"Enter numbers separated by space: \").split()\n",
        "even_list = []\n",
        "for num in numbers:\n",
        "    if int(num) % 2 == 0:\n",
        "        even_list.append(num)\n",
        "print(even_list)"
      ],
      "metadata": {
        "id": "Un_hXhy2Yijt"
      },
      "execution_count": null,
      "outputs": []
    },
    {
      "cell_type": "code",
      "source": [
        "def robot():\n",
        "    def move():\n",
        "        print(\"Robot is moving\")\n",
        "    move()\n",
        "robot()"
      ],
      "metadata": {
        "id": "WkFem08LYv_Y"
      },
      "execution_count": null,
      "outputs": []
    },
    {
      "cell_type": "code",
      "source": [
        "def student(name, age, course):\n",
        "    print(f\"Name: {name}\")\n",
        "    print(f\"Age: {age}\")\n",
        "    print(f\"Course: {course}\")\n",
        "name = input(\"Enter name: \")\n",
        "age = input(\"Enter age: \")\n",
        "course = input(\"Enter course: \")\n",
        "student(name, age, course)"
      ],
      "metadata": {
        "id": "YqJ4i3jgYygP"
      },
      "execution_count": null,
      "outputs": []
    },
    {
      "cell_type": "code",
      "source": [
        "def move_robot(x, y, direction):\n",
        "    x = int(x)\n",
        "    y = int(y)\n",
        "    if direction == \"up\":\n",
        "        y += 1\n",
        "    elif direction == \"down\":\n",
        "        y -= 1\n",
        "    elif direction == \"left\":\n",
        "        x -= 1\n",
        "    elif direction == \"right\":\n",
        "        x += 1\n",
        "    return (x, y)\n",
        "x = input(\"Enter current x position: \")\n",
        "y = input(\"Enter current y position: \")\n",
        "direction = input(\"Enter direction (up/down/left/right): \")\n",
        "new_pos = move_robot(x, y, direction)\n",
        "print(new_pos)"
      ],
      "metadata": {
        "id": "npBGajYGY6JU"
      },
      "execution_count": null,
      "outputs": []
    },
    {
      "cell_type": "code",
      "source": [
        "def classify_temperature(temp):\n",
        "    temp = float(temp)\n",
        "    if temp < 15:\n",
        "        return \"Cold\"\n",
        "    elif 15 <= temp <= 30:\n",
        "        return \"Moderate\"\n",
        "    else:\n",
        "        return \"Hot\"\n",
        "\n",
        "temp = input(\"Enter temperature: \")\n",
        "result = classify_temperature(temp)\n",
        "print(result)\n"
      ],
      "metadata": {
        "id": "V2t8e3mDZEyq"
      },
      "execution_count": null,
      "outputs": []
    },
    {
      "cell_type": "code",
      "source": [
        "def is_goal_reached(path):\n",
        "    x, y = 0, 0\n",
        "    for move in path:\n",
        "        if move == \"up\":\n",
        "            y += 1\n",
        "        elif move == \"down\":\n",
        "            y -= 1\n",
        "        elif move == \"right\":\n",
        "            x += 1\n",
        "        elif move == \"left\":\n",
        "            x -= 1\n",
        "    return (x, y) == (2, 0)\n",
        "\n",
        "moves = input(\"Enter moves separated by space (up/down/left/right): \").split()\n",
        "result = is_goal_reached(moves)\n",
        "print(result)"
      ],
      "metadata": {
        "id": "bu9lXOPHZNq4"
      },
      "execution_count": null,
      "outputs": []
    },
    {
      "cell_type": "code",
      "source": [
        "class Student:\n",
        "    def __init__(self, student_id, student_name):\n",
        "        self.student_id = student_id\n",
        "        self.student_name = student_name\n",
        "        self.student_class = None\n",
        "\n",
        "    def display_attributes(self):\n",
        "        print(f\"Student ID: {self.student_id}\")\n",
        "        print(f\"Student Name: {self.student_name}\")\n",
        "        print(f\"Student Class: {self.student_class}\")\n",
        "\n",
        "student_id = input(\"Enter student ID: \")\n",
        "student_name = input(\"Enter student name: \")\n",
        "student = Student(student_id, student_name)\n",
        "student.student_class = input(\"Enter student class: \")\n",
        "student.display_attributes()"
      ],
      "metadata": {
        "id": "aInxiUunZr9N"
      },
      "execution_count": null,
      "outputs": []
    },
    {
      "cell_type": "code",
      "source": [
        "class Student:\n",
        "    def __init__(self, student_id, student_name):\n",
        "        self.student_id = student_id\n",
        "        self.student_name = student_name\n",
        "\n",
        "student1 = Student(\"101\", \"Alice\")\n",
        "student2 = Student(\"102\", \"Bob\")\n",
        "\n",
        "print(f\"Student1 ID: {student1.student_id}, Name: {student1.student_name}\")\n",
        "print(f\"Student2 ID: {student2.student_id}, Name: {student2.student_name}\")"
      ],
      "metadata": {
        "id": "86HhOU1rZwuF"
      },
      "execution_count": null,
      "outputs": []
    },
    {
      "cell_type": "code",
      "source": [
        "class Circle:\n",
        "    def __init__(self, radius):\n",
        "        self.radius = radius\n",
        "\n",
        "    def area(self):\n",
        "        return 3.14 * self.radius * self.radius\n",
        "\n",
        "    def perimeter(self):\n",
        "        return 2 * 3.14 * self.radius\n",
        "\n",
        "radius = float(input(\"Enter circle radius: \"))\n",
        "circle = Circle(radius)\n",
        "print(f\"Area: {circle.area()}\")\n",
        "print(f\"Perimeter: {circle.perimeter()}\")"
      ],
      "metadata": {
        "id": "6Et8d5isZ0h3"
      },
      "execution_count": null,
      "outputs": []
    },
    {
      "cell_type": "code",
      "source": [
        "class StringProcessor:\n",
        "    def get_String(self):\n",
        "        self.input_string = input(\"Enter a string: \")\n",
        "\n",
        "    def print_String(self):\n",
        "        print(self.input_string.upper())\n",
        "\n",
        "processor = StringProcessor()\n",
        "processor.get_String()\n",
        "processor.print_String()"
      ],
      "metadata": {
        "id": "m2r7uIAOZ5d_"
      },
      "execution_count": null,
      "outputs": []
    },
    {
      "cell_type": "code",
      "source": [
        "class Robot:\n",
        "    def __init__(self, name, task):\n",
        "        self.name = name\n",
        "        self.task = task\n",
        "        self.battery_level = 100\n",
        "\n",
        "    def perform_task(self):\n",
        "        print(f\"{self.name} is performing: {self.task}\")\n",
        "        self.battery_level -= 10\n",
        "\n",
        "    def recharge(self):\n",
        "        self.battery_level = 100\n",
        "        print(f\"{self.name} is fully charged\")\n",
        "\n",
        "    def status(self):\n",
        "        print(f\"Name: {self.name}, Task: {self.task}, Battery: {self.battery_level}%\")\n",
        "\n",
        "name = input(\"Enter robot name: \")\n",
        "task = input(\"Enter robot task: \")\n",
        "robot = Robot(name, task)\n",
        "robot.perform_task()\n",
        "robot.status()\n",
        "robot.recharge()\n",
        "robot.status()\n"
      ],
      "metadata": {
        "id": "-kNobGBxZ8OD"
      },
      "execution_count": null,
      "outputs": []
    },
    {
      "cell_type": "code",
      "source": [],
      "metadata": {
        "id": "HEEu2I4AaNfH"
      },
      "execution_count": null,
      "outputs": []
    }
  ]
}