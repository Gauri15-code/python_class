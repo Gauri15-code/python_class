{
  "nbformat": 4,
  "nbformat_minor": 0,
  "metadata": {
    "colab": {
      "provenance": []
    },
    "kernelspec": {
      "name": "python3",
      "display_name": "Python 3"
    },
    "language_info": {
      "name": "python"
    }
  },
  "cells": [
    {
      "cell_type": "code",
      "execution_count": null,
      "metadata": {
        "id": "zerdK43RzAx7"
      },
      "outputs": [],
      "source": [
        "print(\"Twinkle, twinkle, little star,\\nHow I wonder what you are!\\nUp above the world so high,\\nLike a diamond in the sky.\\nTwinkle, twinkle, little star,\\nHow I wonder what you are.\")"
      ]
    },
    {
      "cell_type": "code",
      "source": [
        "first_name = input(\"Enter your first name: \")\n",
        "last_name = input(\"Enter your last name: \")\n",
        "print(last_name, first_name)\n"
      ],
      "metadata": {
        "id": "b5XGzsiv-4KN"
      },
      "execution_count": null,
      "outputs": []
    },
    {
      "cell_type": "code",
      "source": [
        "import math\n",
        "radius = float(input(\"Enter the radius of the circle: \"))\n",
        "area = math.pi * (radius ** 2)\n",
        "print(\"The area of the circle is: \", area)"
      ],
      "metadata": {
        "id": "Xc2AhvMj-8NH"
      },
      "execution_count": null,
      "outputs": []
    },
    {
      "cell_type": "code",
      "source": [
        "color_list = [\"Red\",\"Green\",\"White\" ,\"Black\"]\n",
        "print(\"the first colour is: \",color_list[0])\n",
        "print(\"the last colour is: \",color_list[-1])"
      ],
      "metadata": {
        "id": "_wkPKI8N--tL"
      },
      "execution_count": null,
      "outputs": []
    },
    {
      "cell_type": "code",
      "source": [
        "n = str(input(\"Enter an integer: \"))\n",
        "print(int(n)+int(n*2)+int(n*3))"
      ],
      "metadata": {
        "id": "mHbg0G5a_AsF"
      },
      "execution_count": null,
      "outputs": []
    },
    {
      "cell_type": "code",
      "source": [
        "n = input(\"Enter comma separated numbers: \")\n",
        "List = n.split(\",\")\n",
        "# List = list(n)\n",
        "Tuple = tuple(List)\n",
        "print(List)\n",
        "print(Tuple)\n"
      ],
      "metadata": {
        "id": "rDDbj5Ms_CqY"
      },
      "execution_count": null,
      "outputs": []
    },
    {
      "cell_type": "code",
      "source": [
        "temp_celcius = float(input(\"Enter the temperature in celcius: \"))\n",
        "temp_fahrenheit = (temp_celcius * (9/5)) + 32\n",
        "rounded_temp = round(temp_fahrenheit, 3)\n",
        "print(\"The temperature in fahrenheit is: \", rounded_temp)"
      ],
      "metadata": {
        "id": "5xzvXsxs_Eb4"
      },
      "execution_count": null,
      "outputs": []
    },
    {
      "cell_type": "code",
      "source": [
        "a = int(input(\"Enter the first number: \"))\n",
        "b = int(input(\"Enter the second number: \"))\n",
        "temp_var = a\n",
        "a = b\n",
        "b = temp_var\n",
        "b += 1\n",
        "print(\"The first number is: \", a)\n",
        "print(\"The second number is: \", b)"
      ],
      "metadata": {
        "id": "4UCMo2kb_G1X"
      },
      "execution_count": null,
      "outputs": []
    },
    {
      "cell_type": "code",
      "source": [
        "num = int(input(\"Enter a number: \"))\n",
        "if num % 2 == 0:\n",
        "    print(\"The number is even\")\n",
        "else:\n",
        "    print(\"The number is odd\")"
      ],
      "metadata": {
        "id": "VklsoYUZ_IvL"
      },
      "execution_count": null,
      "outputs": []
    },
    {
      "cell_type": "code",
      "source": [
        "year = int(input(\"Enter a year: \"))\n",
        "if year % 4 == 0:\n",
        "  if year % 100 == 0 and year % 400 == 0:\n",
        "    print(\"It is a leap year\")\n",
        "  else:\n",
        "    print(\"It is not a leap year\")"
      ],
      "metadata": {
        "id": "XdaLYQMJ_LCs"
      },
      "execution_count": null,
      "outputs": []
    },
    {
      "cell_type": "code",
      "source": [
        "import math\n",
        "x1 = float(input(\"Enter the x-coordinate of the first point: \"))\n",
        "y1 = float(input(\"Enter the y-coordinate of the first point: \"))\n",
        "x2= float(input(\"Enter the x-coordinate of the second point: \"))\n",
        "y2 = float(input(\"Enter the y-coordinate of the second point: \"))\n",
        "distance = math.sqrt((x2 - x1)**2 + (y2 - y1)**2)\n",
        "print(\"the euclidean distance between the two points is:\", distance)"
      ],
      "metadata": {
        "id": "5xjywITG_OFO"
      },
      "execution_count": null,
      "outputs": []
    },
    {
      "cell_type": "code",
      "source": [
        "a_1 = float(input(\"enter the first angle in degrees: \"))\n",
        "a_2 = float(input(\"enter the second angle in degrees: \"))\n",
        "a_3 = float(input(\"enter the third angle in degrees: \"))\n",
        "if a_1 + a_2 + a_3 == 180:\n",
        "    print(\"it's a triangle\")\n",
        "else:\n",
        "    print(\"it's not a triangle\")"
      ],
      "metadata": {
        "id": "_UAWI5Pp_O9u"
      },
      "execution_count": null,
      "outputs": []
    },
    {
      "cell_type": "code",
      "source": [
        "P = float(input(\"enter the principal amount: \"))\n",
        "R = float(input(\"enter the rate of interest: \"))\n",
        "T = float(input(\"enter the time in years: \"))\n",
        "N = float(input(\"enter the number of times the interest is compounded per year: \"))\n",
        "A = P * (1 + R/N)**(N*T)\n",
        "print(\"The final amount is: \", A)"
      ],
      "metadata": {
        "id": "pyZRS8BY_Q6f"
      },
      "execution_count": null,
      "outputs": []
    },
    {
      "cell_type": "code",
      "source": [
        "n = int(input(\"enter a positive number: \"))\n",
        "flag = 0\n",
        "for i in range(2, n):\n",
        "    if n % i == 0:\n",
        "        flag = 1\n",
        "        break\n",
        "if flag == 1:\n",
        "    print(\"The number is not prime\")\n",
        "else:\n",
        "    print(\"The number is prime\")"
      ],
      "metadata": {
        "id": "2RXk3Mpq_UKk"
      },
      "execution_count": null,
      "outputs": []
    },
    {
      "cell_type": "code",
      "source": [
        "n = int(input(\"enter a positive number: \"))\n",
        "print((n * (n+1) * ((2*n)+1)) // 6)"
      ],
      "metadata": {
        "id": "OeMqQ5SD_WTp"
      },
      "execution_count": null,
      "outputs": []
    }
  ]
}