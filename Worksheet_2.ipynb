{
  "nbformat": 4,
  "nbformat_minor": 0,
  "metadata": {
    "colab": {
      "provenance": [],
      "authorship_tag": "ABX9TyNK4BW3vgknmKj0o0KVnUlz",
      "include_colab_link": true
    },
    "kernelspec": {
      "name": "python3",
      "display_name": "Python 3"
    },
    "language_info": {
      "name": "python"
    }
  },
  "cells": [
    {
      "cell_type": "markdown",
      "metadata": {
        "id": "view-in-github",
        "colab_type": "text"
      },
      "source": [
        "<a href=\"https://colab.research.google.com/github/Gauri15-code/python_class/blob/main/Worksheet_2.ipynb\" target=\"_parent\"><img src=\"https://colab.research.google.com/assets/colab-badge.svg\" alt=\"Open In Colab\"/></a>"
      ]
    },
    {
      "cell_type": "code",
      "execution_count": null,
      "metadata": {
        "id": "uq1I0pn4_j9J"
      },
      "outputs": [],
      "source": [
        "L= [11, 12, 13, 14]\n",
        "L.append(50)\n",
        "L.insert(5,60)\n",
        "print(L)"
      ]
    },
    {
      "cell_type": "code",
      "source": [
        "L= [11, 12, 13, 14]\n",
        "L.pop(0)\n",
        "L.remove(13)\n",
        "print(L)\n"
      ],
      "metadata": {
        "id": "yE57-Ib2CfrK"
      },
      "execution_count": null,
      "outputs": []
    },
    {
      "cell_type": "code",
      "source": [
        "L= [11, 12, 13, 14]\n",
        "L.sort()\n",
        "print(L)"
      ],
      "metadata": {
        "id": "PE5dlDhhCimn"
      },
      "execution_count": null,
      "outputs": []
    },
    {
      "cell_type": "code",
      "source": [
        "L= [11, 12, 13, 14]\n",
        "L.sort(reverse = True)\n",
        "print(L)"
      ],
      "metadata": {
        "id": "b4UWE_cuCjJM"
      },
      "execution_count": null,
      "outputs": []
    },
    {
      "cell_type": "code",
      "source": [
        "L= [11, 12, 13, 14]\n",
        "for i in L:\n",
        "  if i == 13:\n",
        "    print(\"13 is present.\")"
      ],
      "metadata": {
        "id": "5AQ5ChnTCk_j"
      },
      "execution_count": null,
      "outputs": []
    },
    {
      "cell_type": "code",
      "source": [
        "L= [11, 12, 13, 14]\n",
        "print(len(L))"
      ],
      "metadata": {
        "id": "_yqnVHLaCmnK"
      },
      "execution_count": null,
      "outputs": []
    },
    {
      "cell_type": "code",
      "source": [
        "L= [11, 12, 13, 14]\n",
        "sum= 0\n",
        "for i in L:\n",
        "  sum+=i\n",
        "print(sum)"
      ],
      "metadata": {
        "id": "WD2nIJmVCoUF"
      },
      "execution_count": null,
      "outputs": []
    },
    {
      "cell_type": "code",
      "source": [
        "L= [11, 12, 13, 14]\n",
        "sum = 0\n",
        "for i in L:\n",
        "  if i % 2 !=0:\n",
        "    sum += i\n",
        "print(sum)"
      ],
      "metadata": {
        "id": "-uO63fbKCp7W"
      },
      "execution_count": null,
      "outputs": []
    },
    {
      "cell_type": "code",
      "source": [
        "L= [11, 12, 13, 14]\n",
        "sum = 0\n",
        "for i in L:\n",
        "  if i % 2 == 0:\n",
        "    sum += i\n",
        "print(sum)"
      ],
      "metadata": {
        "id": "Yu0wnv-pCrh6"
      },
      "execution_count": null,
      "outputs": []
    },
    {
      "cell_type": "code",
      "source": [
        "L= [11, 12, 13, 14]\n",
        "sum = 0\n",
        "for i in L:\n",
        "  flag = 1\n",
        "  for j in range(2, i):\n",
        "    if i % j == 0:\n",
        "      flag = 0\n",
        "      break\n",
        "  if flag == 1:\n",
        "    sum += i\n",
        "print(sum)"
      ],
      "metadata": {
        "id": "ujObM6DxCtWw"
      },
      "execution_count": null,
      "outputs": []
    },
    {
      "cell_type": "code",
      "source": [
        "L= [11, 12, 13, 14]\n",
        "L.clear()"
      ],
      "metadata": {
        "id": "4_eQeC9ECvX0"
      },
      "execution_count": null,
      "outputs": []
    },
    {
      "cell_type": "code",
      "source": [
        "L= [11, 12, 13, 14]\n",
        "del L"
      ],
      "metadata": {
        "id": "lQnvdYgZCxPs"
      },
      "execution_count": null,
      "outputs": []
    },
    {
      "cell_type": "code",
      "source": [
        "L= [11, 12, 13, 14]\n",
        "sum = 0\n",
        "for i in L:\n",
        "  sum += i\n",
        "print(sum)"
      ],
      "metadata": {
        "id": "TXccv6D9Cy3t"
      },
      "execution_count": null,
      "outputs": []
    },
    {
      "cell_type": "code",
      "source": [
        "L= [11, 12, 13, 14]\n",
        "P = 1\n",
        "for i in L:\n",
        "  P *= i\n",
        "print(P)"
      ],
      "metadata": {
        "id": "uo4NmUhLDhWa"
      },
      "execution_count": null,
      "outputs": []
    },
    {
      "cell_type": "code",
      "source": [
        "arr = []\n",
        "for i in range(3):\n",
        "  layer = []\n",
        "  for j in range(4):\n",
        "    row = []\n",
        "    for k in range(6):\n",
        "      row.append(\"*\")\n",
        "    layer.append(row)\n",
        "  arr.append(layer)\n",
        "print(arr)"
      ],
      "metadata": {
        "id": "nrExI16VE5HB"
      },
      "execution_count": null,
      "outputs": []
    },
    {
      "cell_type": "code",
      "source": [
        "D= {1:5.6, 2:7.8, 3:6.6, 4:8.7, 5:7.7}\n",
        "D[8] = 8.8\n",
        "print(D)\n",
        "\n"
      ],
      "metadata": {
        "id": "mEKwfrIRFAen"
      },
      "execution_count": null,
      "outputs": []
    },
    {
      "cell_type": "code",
      "source": [
        "D= {1:5.6, 2:7.8, 3:6.6, 4:8.7, 5:7.7}\n",
        "del D[2]\n",
        "print(D)"
      ],
      "metadata": {
        "id": "xqjAOFzzGlsN"
      },
      "execution_count": null,
      "outputs": []
    },
    {
      "cell_type": "code",
      "source": [
        "D= {1:5.6, 2:7.8, 3:6.6, 4:8.7, 5:7.7}\n",
        "print(6 in D)"
      ],
      "metadata": {
        "id": "GHkJEznRGrmY"
      },
      "execution_count": null,
      "outputs": []
    },
    {
      "cell_type": "code",
      "source": [
        "D= {1:5.6, 2:7.8, 3:6.6, 4:8.7, 5:7.7}\n",
        "print(len(D))"
      ],
      "metadata": {
        "id": "sZgB3IhXGv2b"
      },
      "execution_count": null,
      "outputs": []
    },
    {
      "cell_type": "code",
      "source": [
        "D= {1:5.6, 2:7.8, 3:6.6, 4:8.7, 5:7.7}\n",
        "print(sum(D.values()))"
      ],
      "metadata": {
        "id": "uFrdj5L3G2F-"
      },
      "execution_count": null,
      "outputs": []
    },
    {
      "cell_type": "code",
      "source": [
        "D= {1:5.6, 2:7.8, 3:6.6, 4:8.7, 5:7.7}\n",
        "D[3] = 7.1\n",
        "print(D)"
      ],
      "metadata": {
        "id": "pUEV0RY-G4bX"
      },
      "execution_count": null,
      "outputs": []
    },
    {
      "cell_type": "code",
      "source": [
        "D= {1:5.6, 2:7.8, 3:6.6, 4:8.7, 5:7.7}\n",
        "D.clear()\n",
        "print(D)"
      ],
      "metadata": {
        "id": "rIwIO5l9G6HN"
      },
      "execution_count": null,
      "outputs": []
    },
    {
      "cell_type": "code",
      "source": [
        "S1 = {10, 20, 30, 40, 50, 60}\n",
        "S2 = {40, 50, 60, 70, 80, 90}\n",
        "S1.add(55)\n",
        "S1.add(66)\n",
        "print(S1)"
      ],
      "metadata": {
        "id": "zsUPiNDxHAyo"
      },
      "execution_count": null,
      "outputs": []
    },
    {
      "cell_type": "code",
      "source": [
        "S1 = {10, 20, 30, 40, 50, 60}\n",
        "S2 = {40, 50, 60, 70, 80, 90}\n",
        "S1.remove(10)\n",
        "S1.remove(30)\n",
        "print(S1)"
      ],
      "metadata": {
        "id": "59kjiRLeHEPD"
      },
      "execution_count": null,
      "outputs": []
    },
    {
      "cell_type": "code",
      "source": [
        "S1 = {10, 20, 30, 40, 50, 60}\n",
        "S2 = {40, 50, 60, 70, 80, 90}\n",
        "print(40 in S1)"
      ],
      "metadata": {
        "id": "GMYmNtM_HHOy"
      },
      "execution_count": null,
      "outputs": []
    },
    {
      "cell_type": "code",
      "source": [
        "S1 = {10, 20, 30, 40, 50, 60}\n",
        "S2 = {40, 50, 60, 70, 80, 90}\n",
        "print(S1.union(S2))"
      ],
      "metadata": {
        "id": "X9gzCkbUHK1I"
      },
      "execution_count": null,
      "outputs": []
    },
    {
      "cell_type": "code",
      "source": [
        "S1 = {10, 20, 30, 40, 50, 60}\n",
        "S2 = {40, 50, 60, 70, 80, 90}\n",
        "print(S1.intersection(S2))"
      ],
      "metadata": {
        "id": "b8smdQ2UHOLK"
      },
      "execution_count": null,
      "outputs": []
    },
    {
      "cell_type": "code",
      "source": [
        "S1 = {10, 20, 30, 40, 50, 60}\n",
        "S2 = {40, 50, 60, 70, 80, 90}\n",
        "print(S1 - S2)"
      ],
      "metadata": {
        "id": "_lk92OE-HO2j"
      },
      "execution_count": null,
      "outputs": []
    },
    {
      "cell_type": "code",
      "source": [
        "import random\n",
        "import string\n",
        "for i in range(100):\n",
        "    length = random.randint(6, 8)\n",
        "    random_string = ''.join(random.choice(string.ascii_letters) for _ in range(length))\n",
        "    print(random_string)"
      ],
      "metadata": {
        "id": "qFRfrrDWHZA-"
      },
      "execution_count": null,
      "outputs": []
    },
    {
      "cell_type": "code",
      "source": [
        "def is_prime(n):\n",
        "    if n <= 1:\n",
        "        return False\n",
        "    for i in range(2, int(n**0.5) + 1):\n",
        "        if n % i == 0:\n",
        "            return False\n",
        "    return True\n",
        "\n",
        "for num in range(600, 801):\n",
        "    if is_prime(num):\n",
        "        print(num)"
      ],
      "metadata": {
        "id": "-9mHXzhoQYc4"
      },
      "execution_count": null,
      "outputs": []
    },
    {
      "cell_type": "code",
      "source": [
        "for num in range(100, 1001):\n",
        "    if num % 7 == 0 and num % 9 == 0:\n",
        "        print(num)"
      ],
      "metadata": {
        "id": "CYxY8vFyQlni"
      },
      "execution_count": null,
      "outputs": []
    },
    {
      "cell_type": "code",
      "source": [
        "exam_st_date = (11, 12, 2025)\n",
        "print(f\"The examination will start from: {exam_st_date[0]} / {exam_st_date[1]} / {exam_st_date[2]}\")"
      ],
      "metadata": {
        "id": "Tovh11LbQu8G"
      },
      "execution_count": null,
      "outputs": []
    },
    {
      "cell_type": "code",
      "source": [
        "numbers = [10, 23, 35, 42, 55, 60, 77, 85, 90, 99]\n",
        "for num in numbers:\n",
        "    if num % 5 == 0:\n",
        "        print(num)"
      ],
      "metadata": {
        "id": "E-LsXi7jR9MS"
      },
      "execution_count": null,
      "outputs": []
    },
    {
      "cell_type": "code",
      "source": [
        "num = 15\n",
        "is_even = (num % 2 == 0)\n",
        "if is_even:\n",
        "    print(\"Even\")\n",
        "else:\n",
        "    print(\"Odd\")"
      ],
      "metadata": {
        "id": "BhzaRodwUOKd"
      },
      "execution_count": null,
      "outputs": []
    },
    {
      "cell_type": "code",
      "source": [
        "string = input(\"Enter a string: \")\n",
        "count = string.count(\"Emma\")\n",
        "print(count)"
      ],
      "metadata": {
        "id": "XPIpOarmUcrl"
      },
      "execution_count": null,
      "outputs": []
    },
    {
      "cell_type": "code",
      "source": [
        "L1 = [1, 2, 3, 4, 5]\n",
        "L2 = [6, 7, 8, 9, 10]\n",
        "new_list = []\n",
        "\n",
        "for num in L1:\n",
        "  if num % 2 != 0:\n",
        "        new_list.append(num)\n",
        "for num in L2:\n",
        "  if num % 2 == 0:\n",
        "        new_list.append(num)\n",
        "print(new_list)"
      ],
      "metadata": {
        "id": "A57VP20aUnH4"
      },
      "execution_count": null,
      "outputs": []
    },
    {
      "cell_type": "code",
      "source": [
        "positions = [(2,3), (4,5), (6,7), (7,8)]\n",
        "result = []\n",
        "for x in positions:\n",
        "    if x[0] % 2 == 0:\n",
        "        result.append(x)\n",
        "print(result)"
      ],
      "metadata": {
        "id": "BNrtHnEUVJCK"
      },
      "execution_count": null,
      "outputs": []
    },
    {
      "cell_type": "code",
      "source": [
        "sensor_data = {1: 2.3, 2: 4.5, 3: 1.8, 4: 3.6}\n",
        "result = []\n",
        "for sensor_id, reading in sensor_data.items():\n",
        "    if reading > 3.0:\n",
        "        result.append(sensor_id)\n",
        "print(result)"
      ],
      "metadata": {
        "id": "2qsKbOPEVyYT"
      },
      "execution_count": null,
      "outputs": []
    },
    {
      "cell_type": "code",
      "source": [
        "cmd_received = {\"MOVE\", \"TURN_LEFT\", \"TURN_RIGHT\", \"STOP\"}\n",
        "cmd_executed = {\"MOVE\", \"TURN_LEFT\", \"STOP\"}\n",
        "result = []\n",
        "for x in cmd_received:\n",
        "    if x not in cmd_executed:\n",
        "        result.append(x)\n",
        "print(result)"
      ],
      "metadata": {
        "id": "9ZVnew5bV40w"
      },
      "execution_count": null,
      "outputs": []
    }
  ]
}